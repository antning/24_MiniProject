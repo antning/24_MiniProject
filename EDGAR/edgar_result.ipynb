{
 "cells": [
  {
   "cell_type": "markdown",
   "id": "c8dbbbd0-0388-4d1a-9108-1143aac511e3",
   "metadata": {},
   "source": [
    "### Import packages and Connect to WRDS"
   ]
  },
  {
   "cell_type": "code",
   "execution_count": 2,
   "id": "12ef3b77-feac-4bb9-ba5d-fced80f4ce5a",
   "metadata": {},
   "outputs": [
    {
     "name": "stdout",
     "output_type": "stream",
     "text": [
      "Requirement already satisfied: wrds in /Users/anthony_ning/opt/anaconda3/lib/python3.9/site-packages (3.2.0)\n",
      "Requirement already satisfied: numpy<1.27,>=1.26 in /Users/anthony_ning/opt/anaconda3/lib/python3.9/site-packages (from wrds) (1.26.4)\n",
      "Requirement already satisfied: packaging<23.3 in /Users/anthony_ning/opt/anaconda3/lib/python3.9/site-packages (from wrds) (23.0)\n",
      "Requirement already satisfied: pandas<2.3,>=2.2 in /Users/anthony_ning/opt/anaconda3/lib/python3.9/site-packages (from wrds) (2.2.2)\n",
      "Requirement already satisfied: psycopg2-binary<2.10,>=2.9 in /Users/anthony_ning/opt/anaconda3/lib/python3.9/site-packages (from wrds) (2.9.9)\n",
      "Requirement already satisfied: scipy<1.13,>=1.12 in /Users/anthony_ning/opt/anaconda3/lib/python3.9/site-packages (from wrds) (1.12.0)\n",
      "Requirement already satisfied: sqlalchemy<2.1,>=2 in /Users/anthony_ning/opt/anaconda3/lib/python3.9/site-packages (from wrds) (2.0.34)\n",
      "Requirement already satisfied: python-dateutil>=2.8.2 in /Users/anthony_ning/opt/anaconda3/lib/python3.9/site-packages (from pandas<2.3,>=2.2->wrds) (2.9.0.post0)\n",
      "Requirement already satisfied: pytz>=2020.1 in /Users/anthony_ning/opt/anaconda3/lib/python3.9/site-packages (from pandas<2.3,>=2.2->wrds) (2022.7.1)\n",
      "Requirement already satisfied: tzdata>=2022.7 in /Users/anthony_ning/opt/anaconda3/lib/python3.9/site-packages (from pandas<2.3,>=2.2->wrds) (2023.3)\n",
      "Requirement already satisfied: typing-extensions>=4.6.0 in /Users/anthony_ning/opt/anaconda3/lib/python3.9/site-packages (from sqlalchemy<2.1,>=2->wrds) (4.11.0)\n",
      "Requirement already satisfied: greenlet!=0.4.17 in /Users/anthony_ning/opt/anaconda3/lib/python3.9/site-packages (from sqlalchemy<2.1,>=2->wrds) (3.0.1)\n",
      "Requirement already satisfied: six>=1.5 in /Users/anthony_ning/opt/anaconda3/lib/python3.9/site-packages (from python-dateutil>=2.8.2->pandas<2.3,>=2.2->wrds) (1.16.0)\n",
      "Note: you may need to restart the kernel to use updated packages.\n"
     ]
    }
   ],
   "source": [
    "pip install wrds"
   ]
  },
  {
   "cell_type": "code",
   "execution_count": 167,
   "id": "fe4fb121-fe70-49ac-8bf1-e31254177d77",
   "metadata": {},
   "outputs": [
    {
     "name": "stderr",
     "output_type": "stream",
     "text": [
      "Matplotlib is building the font cache; this may take a moment.\n"
     ]
    }
   ],
   "source": [
    "# Import packages\n",
    "import pandas as pd\n",
    "import numpy as np\n",
    "import wrds\n",
    "import datetime\n",
    "import statsmodels.api as sm\n",
    "import matplotlib.pyplot as plt"
   ]
  },
  {
   "cell_type": "code",
   "execution_count": 105,
   "id": "48849530-70dd-4112-8746-c0f088ceb0a9",
   "metadata": {},
   "outputs": [
    {
     "name": "stdin",
     "output_type": "stream",
     "text": [
      "Enter your WRDS username [anthony_ning]: dr1902\n",
      "Enter your password: ········\n"
     ]
    },
    {
     "name": "stdout",
     "output_type": "stream",
     "text": [
      "WRDS recommends setting up a .pgpass file.\n"
     ]
    },
    {
     "name": "stdin",
     "output_type": "stream",
     "text": [
      "Create .pgpass file now [y/n]?:  n\n"
     ]
    },
    {
     "name": "stdout",
     "output_type": "stream",
     "text": [
      "You can create this file yourself at any time with the create_pgpass_file() function.\n",
      "Loading library list...\n",
      "Done\n"
     ]
    }
   ],
   "source": [
    "# Connect to WRDS\n",
    "db = wrds.Connection()"
   ]
  },
  {
   "cell_type": "markdown",
   "id": "58254e8f-4d0c-4851-994e-ffb2f7c4941a",
   "metadata": {},
   "source": [
    "### Retrive daily prices for specific companies using 'permno' and daily sp500 market index"
   ]
  },
  {
   "cell_type": "code",
   "execution_count": 204,
   "id": "56c00ab7-2744-4c63-ba3c-f276674a5f82",
   "metadata": {},
   "outputs": [],
   "source": [
    "# Read sp500_test_2.csv\n",
    "data = pd.read_csv('sp500_test_2.csv')\n",
    "perms = data['permno']"
   ]
  },
  {
   "cell_type": "code",
   "execution_count": 107,
   "id": "3f9ab47c-7a09-4d40-ab98-d38bd6b956d2",
   "metadata": {},
   "outputs": [],
   "source": [
    "# Query CRSP Daily Stock File for daily returns of specific companies\n",
    "query_returns = f\"\"\"\n",
    "SELECT date, permno, prc\n",
    "FROM crsp.dsf\n",
    "WHERE permno IN ({','.join([f\"'{perm}'\" for perm in perms])})\n",
    "AND date BETWEEN '2023-12-01' AND '2023-12-31'\n",
    "ORDER BY permno, date\n",
    "\"\"\"\n",
    "\n",
    "# Execute the query\n",
    "daily_returns = db.raw_sql(query_returns)\n",
    "\n",
    "daily_returns['date'] = pd.to_datetime(daily_returns['date'])"
   ]
  },
  {
   "cell_type": "code",
   "execution_count": 108,
   "id": "6b4a56f8-348b-458e-9928-348e992e57fb",
   "metadata": {},
   "outputs": [],
   "source": [
    "# Retrieve daily value-weighted market returns (with dividends) and sp500 market index\n",
    "query = \"\"\"\n",
    "SELECT date, spindx, vwretd\n",
    "FROM crsp.dsi\n",
    "WHERE date BETWEEN '2023-12-01' AND '2023-12-31'\n",
    "\"\"\"\n",
    "\n",
    "# Execute the query\n",
    "vw_market_daily = db.raw_sql(query)\n",
    "\n",
    "vw_market_daily['date'] = pd.to_datetime(vw_market_daily['date'])"
   ]
  },
  {
   "cell_type": "code",
   "execution_count": 170,
   "id": "c9a4a76a-a794-4de0-ad5a-be234acffbbd",
   "metadata": {},
   "outputs": [
    {
     "data": {
      "text/html": [
       "<div>\n",
       "<style scoped>\n",
       "    .dataframe tbody tr th:only-of-type {\n",
       "        vertical-align: middle;\n",
       "    }\n",
       "\n",
       "    .dataframe tbody tr th {\n",
       "        vertical-align: top;\n",
       "    }\n",
       "\n",
       "    .dataframe thead th {\n",
       "        text-align: right;\n",
       "    }\n",
       "</style>\n",
       "<table border=\"1\" class=\"dataframe\">\n",
       "  <thead>\n",
       "    <tr style=\"text-align: right;\">\n",
       "      <th></th>\n",
       "      <th>date</th>\n",
       "      <th>permno</th>\n",
       "      <th>prc</th>\n",
       "    </tr>\n",
       "  </thead>\n",
       "  <tbody>\n",
       "    <tr>\n",
       "      <th>0</th>\n",
       "      <td>2023-12-01</td>\n",
       "      <td>10104</td>\n",
       "      <td>117.16000</td>\n",
       "    </tr>\n",
       "    <tr>\n",
       "      <th>1</th>\n",
       "      <td>2023-12-04</td>\n",
       "      <td>10104</td>\n",
       "      <td>115.78000</td>\n",
       "    </tr>\n",
       "    <tr>\n",
       "      <th>2</th>\n",
       "      <td>2023-12-05</td>\n",
       "      <td>10104</td>\n",
       "      <td>114.53000</td>\n",
       "    </tr>\n",
       "    <tr>\n",
       "      <th>3</th>\n",
       "      <td>2023-12-06</td>\n",
       "      <td>10104</td>\n",
       "      <td>112.03000</td>\n",
       "    </tr>\n",
       "    <tr>\n",
       "      <th>4</th>\n",
       "      <td>2023-12-07</td>\n",
       "      <td>10104</td>\n",
       "      <td>112.87000</td>\n",
       "    </tr>\n",
       "    <tr>\n",
       "      <th>...</th>\n",
       "      <td>...</td>\n",
       "      <td>...</td>\n",
       "      <td>...</td>\n",
       "    </tr>\n",
       "    <tr>\n",
       "      <th>555</th>\n",
       "      <td>2023-12-22</td>\n",
       "      <td>93096</td>\n",
       "      <td>132.21001</td>\n",
       "    </tr>\n",
       "    <tr>\n",
       "      <th>556</th>\n",
       "      <td>2023-12-26</td>\n",
       "      <td>93096</td>\n",
       "      <td>133.06000</td>\n",
       "    </tr>\n",
       "    <tr>\n",
       "      <th>557</th>\n",
       "      <td>2023-12-27</td>\n",
       "      <td>93096</td>\n",
       "      <td>134.44000</td>\n",
       "    </tr>\n",
       "    <tr>\n",
       "      <th>558</th>\n",
       "      <td>2023-12-28</td>\n",
       "      <td>93096</td>\n",
       "      <td>135.55000</td>\n",
       "    </tr>\n",
       "    <tr>\n",
       "      <th>559</th>\n",
       "      <td>2023-12-29</td>\n",
       "      <td>93096</td>\n",
       "      <td>135.95000</td>\n",
       "    </tr>\n",
       "  </tbody>\n",
       "</table>\n",
       "<p>560 rows × 3 columns</p>\n",
       "</div>"
      ],
      "text/plain": [
       "          date  permno        prc\n",
       "0   2023-12-01   10104  117.16000\n",
       "1   2023-12-04   10104  115.78000\n",
       "2   2023-12-05   10104  114.53000\n",
       "3   2023-12-06   10104  112.03000\n",
       "4   2023-12-07   10104  112.87000\n",
       "..         ...     ...        ...\n",
       "555 2023-12-22   93096  132.21001\n",
       "556 2023-12-26   93096  133.06000\n",
       "557 2023-12-27   93096  134.44000\n",
       "558 2023-12-28   93096  135.55000\n",
       "559 2023-12-29   93096  135.95000\n",
       "\n",
       "[560 rows x 3 columns]"
      ]
     },
     "execution_count": 170,
     "metadata": {},
     "output_type": "execute_result"
    }
   ],
   "source": [
    "daily_returns"
   ]
  },
  {
   "cell_type": "markdown",
   "id": "24981263-1361-49a9-89fd-2513ab07ae14",
   "metadata": {},
   "source": [
    "### Sum up weights for each 10-K and 10-Q file"
   ]
  },
  {
   "cell_type": "code",
   "execution_count": 187,
   "id": "31a13c07-1961-4e03-a3d9-3c7b02ae179d",
   "metadata": {},
   "outputs": [],
   "source": [
    "tf_weight = np.sum(pd.read_csv('sp_testfile_weight.csv', index_col=0), axis=0)\n",
    "pro_weight = np.sum(pd.read_csv('sp_testfile_proweight.csv', index_col=0), axis=0)"
   ]
  },
  {
   "cell_type": "code",
   "execution_count": 201,
   "id": "42d25ae3-4a2e-475d-b0d3-3f32d97f2368",
   "metadata": {},
   "outputs": [],
   "source": [
    "data_order = []\n",
    "for index in tf_weight.index:\n",
    "    data_order.append((index[6:-9], index[12:16]))"
   ]
  },
  {
   "cell_type": "markdown",
   "id": "cee7f644-5ada-4684-8aa9-c24b9c220673",
   "metadata": {},
   "source": [
    "### Calculate 4-day excess return"
   ]
  },
  {
   "cell_type": "code",
   "execution_count": 137,
   "id": "2d26e612-d385-480f-88ef-3fa07bc10312",
   "metadata": {},
   "outputs": [],
   "source": [
    "# The function is used to get the stock price and the sp500 market index after at least 4 days\n",
    "def get_price_end(index, perm, date):\n",
    "    while (daily_returns['permno'].loc[index]==perm) & (daily_returns['date'].loc[index]-date < pd.Timedelta(4, 'd')):\n",
    "        index += 1\n",
    "    return daily_returns['prc'].loc[index], vw_market_daily.loc[vw_market_daily.date==daily_returns['date'].loc[index]]['spindx']"
   ]
  },
  {
   "cell_type": "code",
   "execution_count": 225,
   "id": "305f7a95-dd31-4732-b696-7056b839b06f",
   "metadata": {},
   "outputs": [],
   "source": [
    "# Get the excess return holding for four days starting from the 10k or 10q filed date\n",
    "bh_excess_ret = []\n",
    "\n",
    "for data_info in data_order:\n",
    "    perm = int(data_info[0])\n",
    "    f_type = data_info[1]\n",
    "    \n",
    "    date = data.loc[(data.permno==perm) & (data.form_type==f_type)]['filed_date']\n",
    "    date = pd.Timestamp(date.values[0])\n",
    "    \n",
    "    price = daily_returns.loc[(daily_returns.date==date) & (daily_returns.permno==perm)]['prc']\n",
    "    price = price.values[0]\n",
    "    m_price = vw_market_daily.loc[vw_market_daily.date==date]['spindx']\n",
    "    m_price = m_price.values[0]\n",
    "    \n",
    "    start_index = daily_returns.loc[(daily_returns.date==date) & (daily_returns.permno==perm)].index[0]\n",
    "    \n",
    "    end_price, m_end_price = get_price_end(start_index, perm, date)\n",
    "    m_end_price = m_end_price.values[0]\n",
    "    \n",
    "    excess_ret = (end_price-price)/price - (m_end_price-m_price)/m_price\n",
    "    bh_excess_ret.append(excess_ret)\n",
    "    \n",
    "bh_excess_ret = np.array(bh_excess_ret)\n",
    "bh_excess_ret = bh_excess_ret.reshape(-1, 1)"
   ]
  },
  {
   "cell_type": "code",
   "execution_count": 226,
   "id": "49337729-fcb2-49d4-b739-5d16103dbaef",
   "metadata": {},
   "outputs": [],
   "source": [
    "tf_weight = np.array(tf_weight).reshape(-1, 1)\n",
    "pro_weight = np.array(pro_weight).reshape(-1, 1)"
   ]
  },
  {
   "cell_type": "markdown",
   "id": "64029622-c22f-420c-94b8-d405b4ad87ce",
   "metadata": {},
   "source": [
    "### Scatter plot: the relationship between weights and excess returns"
   ]
  },
  {
   "cell_type": "code",
   "execution_count": 227,
   "id": "5df8caf2-ff24-4dec-a6db-86d6a03ab75d",
   "metadata": {},
   "outputs": [
    {
     "data": {
      "text/plain": [
       "<matplotlib.collections.PathCollection at 0x7f9c00e785e0>"
      ]
     },
     "execution_count": 227,
     "metadata": {},
     "output_type": "execute_result"
    },
    {
     "data": {
      "image/png": "[encoded data removed]",
      "text/plain": [
       "<Figure size 640x480 with 1 Axes>"
      ]
     },
     "metadata": {},
     "output_type": "display_data"
    }
   ],
   "source": [
    "plt.scatter(tf_weight, bh_excess_ret)"
   ]
  },
  {
   "cell_type": "code",
   "execution_count": 217,
   "id": "ddf7d706-8aa2-4e2d-b5d9-f8b839dc362f",
   "metadata": {},
   "outputs": [
    {
     "data": {
      "text/plain": [
       "<matplotlib.collections.PathCollection at 0x7f9c00eb0580>"
      ]
     },
     "execution_count": 217,
     "metadata": {},
     "output_type": "execute_result"
    },
    {
     "data": {
      "image/png": "[encoded data removed]",
      "text/plain": [
       "<Figure size 640x480 with 1 Axes>"
      ]
     },
     "metadata": {},
     "output_type": "display_data"
    }
   ],
   "source": [
    "plt.scatter(pro_weight, bh_excess_ret)"
   ]
  },
  {
   "cell_type": "markdown",
   "id": "ac061bb6-ac03-44e4-a5d3-c8c0e3bb1e32",
   "metadata": {},
   "source": [
    "### Linear Regression Model"
   ]
  },
  {
   "cell_type": "code",
   "execution_count": 228,
   "id": "7e399509-88cc-4dc1-a69a-5a10b464dd17",
   "metadata": {},
   "outputs": [
    {
     "name": "stdout",
     "output_type": "stream",
     "text": [
      "Intel MKL WARNING: Support of Intel(R) Streaming SIMD Extensions 4.2 (Intel(R) SSE4.2) enabled only processors has been deprecated. Intel oneAPI Math Kernel Library 2025.0 will require Intel(R) Advanced Vector Extensions (Intel(R) AVX) instructions.\n"
     ]
    },
    {
     "data": {
      "text/html": [
       "<table class=\"simpletable\">\n",
       "<caption>OLS Regression Results</caption>\n",
       "<tr>\n",
       "  <th>Dep. Variable:</th>            <td>y</td>        <th>  R-squared:         </th> <td>   0.002</td>\n",
       "</tr>\n",
       "<tr>\n",
       "  <th>Model:</th>                   <td>OLS</td>       <th>  Adj. R-squared:    </th> <td>  -0.035</td>\n",
       "</tr>\n",
       "<tr>\n",
       "  <th>Method:</th>             <td>Least Squares</td>  <th>  F-statistic:       </th> <td> 0.04292</td>\n",
       "</tr>\n",
       "<tr>\n",
       "  <th>Date:</th>             <td>Mon, 23 Sep 2024</td> <th>  Prob (F-statistic):</th>  <td> 0.837</td> \n",
       "</tr>\n",
       "<tr>\n",
       "  <th>Time:</th>                 <td>21:26:39</td>     <th>  Log-Likelihood:    </th> <td> -71.074</td>\n",
       "</tr>\n",
       "<tr>\n",
       "  <th>No. Observations:</th>      <td>    29</td>      <th>  AIC:               </th> <td>   146.1</td>\n",
       "</tr>\n",
       "<tr>\n",
       "  <th>Df Residuals:</th>          <td>    27</td>      <th>  BIC:               </th> <td>   148.9</td>\n",
       "</tr>\n",
       "<tr>\n",
       "  <th>Df Model:</th>              <td>     1</td>      <th>                     </th>     <td> </td>   \n",
       "</tr>\n",
       "<tr>\n",
       "  <th>Covariance Type:</th>      <td>nonrobust</td>    <th>                     </th>     <td> </td>   \n",
       "</tr>\n",
       "</table>\n",
       "<table class=\"simpletable\">\n",
       "<tr>\n",
       "    <td></td>       <th>coef</th>     <th>std err</th>      <th>t</th>      <th>P>|t|</th>  <th>[0.025</th>    <th>0.975]</th>  \n",
       "</tr>\n",
       "<tr>\n",
       "  <th>const</th> <td>   -0.0557</td> <td>    0.903</td> <td>   -0.062</td> <td> 0.951</td> <td>   -1.909</td> <td>    1.797</td>\n",
       "</tr>\n",
       "<tr>\n",
       "  <th>x1</th>    <td>   -0.0055</td> <td>    0.027</td> <td>   -0.207</td> <td> 0.837</td> <td>   -0.060</td> <td>    0.049</td>\n",
       "</tr>\n",
       "</table>\n",
       "<table class=\"simpletable\">\n",
       "<tr>\n",
       "  <th>Omnibus:</th>       <td>18.833</td> <th>  Durbin-Watson:     </th> <td>   2.653</td>\n",
       "</tr>\n",
       "<tr>\n",
       "  <th>Prob(Omnibus):</th> <td> 0.000</td> <th>  Jarque-Bera (JB):  </th> <td>  27.194</td>\n",
       "</tr>\n",
       "<tr>\n",
       "  <th>Skew:</th>          <td>-1.489</td> <th>  Prob(JB):          </th> <td>1.24e-06</td>\n",
       "</tr>\n",
       "<tr>\n",
       "  <th>Kurtosis:</th>      <td> 6.693</td> <th>  Cond. No.          </th> <td>    56.6</td>\n",
       "</tr>\n",
       "</table><br/><br/>Notes:<br/>[1] Standard Errors assume that the covariance matrix of the errors is correctly specified."
      ],
      "text/latex": [
       "\\begin{center}\n",
       "\\begin{tabular}{lclc}\n",
       "\\toprule\n",
       "\\textbf{Dep. Variable:}    &        y         & \\textbf{  R-squared:         } &     0.002   \\\\\n",
       "\\textbf{Model:}            &       OLS        & \\textbf{  Adj. R-squared:    } &    -0.035   \\\\\n",
       "\\textbf{Method:}           &  Least Squares   & \\textbf{  F-statistic:       } &   0.04292   \\\\\n",
       "\\textbf{Date:}             & Mon, 23 Sep 2024 & \\textbf{  Prob (F-statistic):} &    0.837    \\\\\n",
       "\\textbf{Time:}             &     21:26:39     & \\textbf{  Log-Likelihood:    } &   -71.074   \\\\\n",
       "\\textbf{No. Observations:} &          29      & \\textbf{  AIC:               } &     146.1   \\\\\n",
       "\\textbf{Df Residuals:}     &          27      & \\textbf{  BIC:               } &     148.9   \\\\\n",
       "\\textbf{Df Model:}         &           1      & \\textbf{                     } &             \\\\\n",
       "\\textbf{Covariance Type:}  &    nonrobust     & \\textbf{                     } &             \\\\\n",
       "\\bottomrule\n",
       "\\end{tabular}\n",
       "\\begin{tabular}{lcccccc}\n",
       "               & \\textbf{coef} & \\textbf{std err} & \\textbf{t} & \\textbf{P$> |$t$|$} & \\textbf{[0.025} & \\textbf{0.975]}  \\\\\n",
       "\\midrule\n",
       "\\textbf{const} &      -0.0557  &        0.903     &    -0.062  &         0.951        &       -1.909    &        1.797     \\\\\n",
       "\\textbf{x1}    &      -0.0055  &        0.027     &    -0.207  &         0.837        &       -0.060    &        0.049     \\\\\n",
       "\\bottomrule\n",
       "\\end{tabular}\n",
       "\\begin{tabular}{lclc}\n",
       "\\textbf{Omnibus:}       & 18.833 & \\textbf{  Durbin-Watson:     } &    2.653  \\\\\n",
       "\\textbf{Prob(Omnibus):} &  0.000 & \\textbf{  Jarque-Bera (JB):  } &   27.194  \\\\\n",
       "\\textbf{Skew:}          & -1.489 & \\textbf{  Prob(JB):          } & 1.24e-06  \\\\\n",
       "\\textbf{Kurtosis:}      &  6.693 & \\textbf{  Cond. No.          } &     56.6  \\\\\n",
       "\\bottomrule\n",
       "\\end{tabular}\n",
       "%\\caption{OLS Regression Results}\n",
       "\\end{center}\n",
       "\n",
       "Notes: \\newline\n",
       " [1] Standard Errors assume that the covariance matrix of the errors is correctly specified."
      ],
      "text/plain": [
       "<class 'statsmodels.iolib.summary.Summary'>\n",
       "\"\"\"\n",
       "                            OLS Regression Results                            \n",
       "==============================================================================\n",
       "Dep. Variable:                      y   R-squared:                       0.002\n",
       "Model:                            OLS   Adj. R-squared:                 -0.035\n",
       "Method:                 Least Squares   F-statistic:                   0.04292\n",
       "Date:                Mon, 23 Sep 2024   Prob (F-statistic):              0.837\n",
       "Time:                        21:26:39   Log-Likelihood:                -71.074\n",
       "No. Observations:                  29   AIC:                             146.1\n",
       "Df Residuals:                      27   BIC:                             148.9\n",
       "Df Model:                           1                                         \n",
       "Covariance Type:            nonrobust                                         \n",
       "==============================================================================\n",
       "                 coef    std err          t      P>|t|      [0.025      0.975]\n",
       "------------------------------------------------------------------------------\n",
       "const         -0.0557      0.903     -0.062      0.951      -1.909       1.797\n",
       "x1            -0.0055      0.027     -0.207      0.837      -0.060       0.049\n",
       "==============================================================================\n",
       "Omnibus:                       18.833   Durbin-Watson:                   2.653\n",
       "Prob(Omnibus):                  0.000   Jarque-Bera (JB):               27.194\n",
       "Skew:                          -1.489   Prob(JB):                     1.24e-06\n",
       "Kurtosis:                       6.693   Cond. No.                         56.6\n",
       "==============================================================================\n",
       "\n",
       "Notes:\n",
       "[1] Standard Errors assume that the covariance matrix of the errors is correctly specified.\n",
       "\"\"\""
      ]
     },
     "execution_count": 228,
     "metadata": {},
     "output_type": "execute_result"
    }
   ],
   "source": [
    "# tf.idf weight being independent variable with an intercept\n",
    "X = sm.add_constant(tf_weight)\n",
    "Y = bh_excess_ret\n",
    "tf_est = sm.OLS(Y, X)\n",
    "tf_est2 = tf_est.fit()\n",
    "tf_est2.summary()"
   ]
  },
  {
   "cell_type": "code",
   "execution_count": 221,
   "id": "0564f9bb-63a1-4eb1-935d-b743b3ba57db",
   "metadata": {},
   "outputs": [
    {
     "data": {
      "text/html": [
       "<table class=\"simpletable\">\n",
       "<caption>OLS Regression Results</caption>\n",
       "<tr>\n",
       "  <th>Dep. Variable:</th>            <td>y</td>        <th>  R-squared (uncentered):</th>      <td>   0.007</td>\n",
       "</tr>\n",
       "<tr>\n",
       "  <th>Model:</th>                   <td>OLS</td>       <th>  Adj. R-squared (uncentered):</th> <td>  -0.029</td>\n",
       "</tr>\n",
       "<tr>\n",
       "  <th>Method:</th>             <td>Least Squares</td>  <th>  F-statistic:       </th>          <td>  0.1909</td>\n",
       "</tr>\n",
       "<tr>\n",
       "  <th>Date:</th>             <td>Mon, 23 Sep 2024</td> <th>  Prob (F-statistic):</th>           <td> 0.666</td> \n",
       "</tr>\n",
       "<tr>\n",
       "  <th>Time:</th>                 <td>21:14:22</td>     <th>  Log-Likelihood:    </th>          <td>  62.474</td>\n",
       "</tr>\n",
       "<tr>\n",
       "  <th>No. Observations:</th>      <td>    29</td>      <th>  AIC:               </th>          <td>  -122.9</td>\n",
       "</tr>\n",
       "<tr>\n",
       "  <th>Df Residuals:</th>          <td>    28</td>      <th>  BIC:               </th>          <td>  -121.6</td>\n",
       "</tr>\n",
       "<tr>\n",
       "  <th>Df Model:</th>              <td>     1</td>      <th>                     </th>              <td> </td>   \n",
       "</tr>\n",
       "<tr>\n",
       "  <th>Covariance Type:</th>      <td>nonrobust</td>    <th>                     </th>              <td> </td>   \n",
       "</tr>\n",
       "</table>\n",
       "<table class=\"simpletable\">\n",
       "<tr>\n",
       "   <td></td>     <th>coef</th>     <th>std err</th>      <th>t</th>      <th>P>|t|</th>  <th>[0.025</th>    <th>0.975]</th>  \n",
       "</tr>\n",
       "<tr>\n",
       "  <th>x1</th> <td>-6.852e-05</td> <td>    0.000</td> <td>   -0.437</td> <td> 0.666</td> <td>   -0.000</td> <td>    0.000</td>\n",
       "</tr>\n",
       "</table>\n",
       "<table class=\"simpletable\">\n",
       "<tr>\n",
       "  <th>Omnibus:</th>       <td>19.019</td> <th>  Durbin-Watson:     </th> <td>   2.648</td>\n",
       "</tr>\n",
       "<tr>\n",
       "  <th>Prob(Omnibus):</th> <td> 0.000</td> <th>  Jarque-Bera (JB):  </th> <td>  27.621</td>\n",
       "</tr>\n",
       "<tr>\n",
       "  <th>Skew:</th>          <td>-1.502</td> <th>  Prob(JB):          </th> <td>1.01e-06</td>\n",
       "</tr>\n",
       "<tr>\n",
       "  <th>Kurtosis:</th>      <td> 6.720</td> <th>  Cond. No.          </th> <td>    1.00</td>\n",
       "</tr>\n",
       "</table><br/><br/>Notes:<br/>[1] R² is computed without centering (uncentered) since the model does not contain a constant.<br/>[2] Standard Errors assume that the covariance matrix of the errors is correctly specified."
      ],
      "text/latex": [
       "\\begin{center}\n",
       "\\begin{tabular}{lclc}\n",
       "\\toprule\n",
       "\\textbf{Dep. Variable:}    &        y         & \\textbf{  R-squared (uncentered):}      &     0.007   \\\\\n",
       "\\textbf{Model:}            &       OLS        & \\textbf{  Adj. R-squared (uncentered):} &    -0.029   \\\\\n",
       "\\textbf{Method:}           &  Least Squares   & \\textbf{  F-statistic:       }          &    0.1909   \\\\\n",
       "\\textbf{Date:}             & Mon, 23 Sep 2024 & \\textbf{  Prob (F-statistic):}          &    0.666    \\\\\n",
       "\\textbf{Time:}             &     21:14:22     & \\textbf{  Log-Likelihood:    }          &    62.474   \\\\\n",
       "\\textbf{No. Observations:} &          29      & \\textbf{  AIC:               }          &    -122.9   \\\\\n",
       "\\textbf{Df Residuals:}     &          28      & \\textbf{  BIC:               }          &    -121.6   \\\\\n",
       "\\textbf{Df Model:}         &           1      & \\textbf{                     }          &             \\\\\n",
       "\\textbf{Covariance Type:}  &    nonrobust     & \\textbf{                     }          &             \\\\\n",
       "\\bottomrule\n",
       "\\end{tabular}\n",
       "\\begin{tabular}{lcccccc}\n",
       "            & \\textbf{coef} & \\textbf{std err} & \\textbf{t} & \\textbf{P$> |$t$|$} & \\textbf{[0.025} & \\textbf{0.975]}  \\\\\n",
       "\\midrule\n",
       "\\textbf{x1} &   -6.852e-05  &        0.000     &    -0.437  &         0.666        &       -0.000    &        0.000     \\\\\n",
       "\\bottomrule\n",
       "\\end{tabular}\n",
       "\\begin{tabular}{lclc}\n",
       "\\textbf{Omnibus:}       & 19.019 & \\textbf{  Durbin-Watson:     } &    2.648  \\\\\n",
       "\\textbf{Prob(Omnibus):} &  0.000 & \\textbf{  Jarque-Bera (JB):  } &   27.621  \\\\\n",
       "\\textbf{Skew:}          & -1.502 & \\textbf{  Prob(JB):          } & 1.01e-06  \\\\\n",
       "\\textbf{Kurtosis:}      &  6.720 & \\textbf{  Cond. No.          } &     1.00  \\\\\n",
       "\\bottomrule\n",
       "\\end{tabular}\n",
       "%\\caption{OLS Regression Results}\n",
       "\\end{center}\n",
       "\n",
       "Notes: \\newline\n",
       " [1] R² is computed without centering (uncentered) since the model does not contain a constant. \\newline\n",
       " [2] Standard Errors assume that the covariance matrix of the errors is correctly specified."
      ],
      "text/plain": [
       "<class 'statsmodels.iolib.summary.Summary'>\n",
       "\"\"\"\n",
       "                                 OLS Regression Results                                \n",
       "=======================================================================================\n",
       "Dep. Variable:                      y   R-squared (uncentered):                   0.007\n",
       "Model:                            OLS   Adj. R-squared (uncentered):             -0.029\n",
       "Method:                 Least Squares   F-statistic:                             0.1909\n",
       "Date:                Mon, 23 Sep 2024   Prob (F-statistic):                       0.666\n",
       "Time:                        21:14:22   Log-Likelihood:                          62.474\n",
       "No. Observations:                  29   AIC:                                     -122.9\n",
       "Df Residuals:                      28   BIC:                                     -121.6\n",
       "Df Model:                           1                                                  \n",
       "Covariance Type:            nonrobust                                                  \n",
       "==============================================================================\n",
       "                 coef    std err          t      P>|t|      [0.025      0.975]\n",
       "------------------------------------------------------------------------------\n",
       "x1         -6.852e-05      0.000     -0.437      0.666      -0.000       0.000\n",
       "==============================================================================\n",
       "Omnibus:                       19.019   Durbin-Watson:                   2.648\n",
       "Prob(Omnibus):                  0.000   Jarque-Bera (JB):               27.621\n",
       "Skew:                          -1.502   Prob(JB):                     1.01e-06\n",
       "Kurtosis:                       6.720   Cond. No.                         1.00\n",
       "==============================================================================\n",
       "\n",
       "Notes:\n",
       "[1] R² is computed without centering (uncentered) since the model does not contain a constant.\n",
       "[2] Standard Errors assume that the covariance matrix of the errors is correctly specified.\n",
       "\"\"\""
      ]
     },
     "execution_count": 221,
     "metadata": {},
     "output_type": "execute_result"
    }
   ],
   "source": [
    "# tf.idf weight being independent variable with no intercept\n",
    "X = tf_weight\n",
    "tf_est = sm.OLS(Y, X)\n",
    "tf_est2 = tf_est.fit()\n",
    "tf_est2.summary()"
   ]
  },
  {
   "cell_type": "code",
   "execution_count": 229,
   "id": "73d8ac71-791b-4066-b6c5-a34eacc2148a",
   "metadata": {},
   "outputs": [
    {
     "name": "stdout",
     "output_type": "stream",
     "text": [
      "Intel MKL WARNING: Support of Intel(R) Streaming SIMD Extensions 4.2 (Intel(R) SSE4.2) enabled only processors has been deprecated. Intel oneAPI Math Kernel Library 2025.0 will require Intel(R) Advanced Vector Extensions (Intel(R) AVX) instructions.\n"
     ]
    },
    {
     "data": {
      "text/html": [
       "<table class=\"simpletable\">\n",
       "<caption>OLS Regression Results</caption>\n",
       "<tr>\n",
       "  <th>Dep. Variable:</th>            <td>y</td>        <th>  R-squared:         </th> <td>   0.001</td>\n",
       "</tr>\n",
       "<tr>\n",
       "  <th>Model:</th>                   <td>OLS</td>       <th>  Adj. R-squared:    </th> <td>  -0.036</td>\n",
       "</tr>\n",
       "<tr>\n",
       "  <th>Method:</th>             <td>Least Squares</td>  <th>  F-statistic:       </th> <td> 0.02261</td>\n",
       "</tr>\n",
       "<tr>\n",
       "  <th>Date:</th>             <td>Mon, 23 Sep 2024</td> <th>  Prob (F-statistic):</th>  <td> 0.882</td> \n",
       "</tr>\n",
       "<tr>\n",
       "  <th>Time:</th>                 <td>21:27:06</td>     <th>  Log-Likelihood:    </th> <td> -71.084</td>\n",
       "</tr>\n",
       "<tr>\n",
       "  <th>No. Observations:</th>      <td>    29</td>      <th>  AIC:               </th> <td>   146.2</td>\n",
       "</tr>\n",
       "<tr>\n",
       "  <th>Df Residuals:</th>          <td>    27</td>      <th>  BIC:               </th> <td>   148.9</td>\n",
       "</tr>\n",
       "<tr>\n",
       "  <th>Df Model:</th>              <td>     1</td>      <th>                     </th>     <td> </td>   \n",
       "</tr>\n",
       "<tr>\n",
       "  <th>Covariance Type:</th>      <td>nonrobust</td>    <th>                     </th>     <td> </td>   \n",
       "</tr>\n",
       "</table>\n",
       "<table class=\"simpletable\">\n",
       "<tr>\n",
       "    <td></td>       <th>coef</th>     <th>std err</th>      <th>t</th>      <th>P>|t|</th>  <th>[0.025</th>    <th>0.975]</th>  \n",
       "</tr>\n",
       "<tr>\n",
       "  <th>const</th> <td>    0.0451</td> <td>    1.753</td> <td>    0.026</td> <td> 0.980</td> <td>   -3.551</td> <td>    3.641</td>\n",
       "</tr>\n",
       "<tr>\n",
       "  <th>x1</th>    <td>  -36.2417</td> <td>  241.014</td> <td>   -0.150</td> <td> 0.882</td> <td> -530.761</td> <td>  458.278</td>\n",
       "</tr>\n",
       "</table>\n",
       "<table class=\"simpletable\">\n",
       "<tr>\n",
       "  <th>Omnibus:</th>       <td>18.047</td> <th>  Durbin-Watson:     </th> <td>   2.677</td>\n",
       "</tr>\n",
       "<tr>\n",
       "  <th>Prob(Omnibus):</th> <td> 0.000</td> <th>  Jarque-Bera (JB):  </th> <td>  25.582</td>\n",
       "</tr>\n",
       "<tr>\n",
       "  <th>Skew:</th>          <td>-1.427</td> <th>  Prob(JB):          </th> <td>2.79e-06</td>\n",
       "</tr>\n",
       "<tr>\n",
       "  <th>Kurtosis:</th>      <td> 6.609</td> <th>  Cond. No.          </th> <td>    446.</td>\n",
       "</tr>\n",
       "</table><br/><br/>Notes:<br/>[1] Standard Errors assume that the covariance matrix of the errors is correctly specified."
      ],
      "text/latex": [
       "\\begin{center}\n",
       "\\begin{tabular}{lclc}\n",
       "\\toprule\n",
       "\\textbf{Dep. Variable:}    &        y         & \\textbf{  R-squared:         } &     0.001   \\\\\n",
       "\\textbf{Model:}            &       OLS        & \\textbf{  Adj. R-squared:    } &    -0.036   \\\\\n",
       "\\textbf{Method:}           &  Least Squares   & \\textbf{  F-statistic:       } &   0.02261   \\\\\n",
       "\\textbf{Date:}             & Mon, 23 Sep 2024 & \\textbf{  Prob (F-statistic):} &    0.882    \\\\\n",
       "\\textbf{Time:}             &     21:27:06     & \\textbf{  Log-Likelihood:    } &   -71.084   \\\\\n",
       "\\textbf{No. Observations:} &          29      & \\textbf{  AIC:               } &     146.2   \\\\\n",
       "\\textbf{Df Residuals:}     &          27      & \\textbf{  BIC:               } &     148.9   \\\\\n",
       "\\textbf{Df Model:}         &           1      & \\textbf{                     } &             \\\\\n",
       "\\textbf{Covariance Type:}  &    nonrobust     & \\textbf{                     } &             \\\\\n",
       "\\bottomrule\n",
       "\\end{tabular}\n",
       "\\begin{tabular}{lcccccc}\n",
       "               & \\textbf{coef} & \\textbf{std err} & \\textbf{t} & \\textbf{P$> |$t$|$} & \\textbf{[0.025} & \\textbf{0.975]}  \\\\\n",
       "\\midrule\n",
       "\\textbf{const} &       0.0451  &        1.753     &     0.026  &         0.980        &       -3.551    &        3.641     \\\\\n",
       "\\textbf{x1}    &     -36.2417  &      241.014     &    -0.150  &         0.882        &     -530.761    &      458.278     \\\\\n",
       "\\bottomrule\n",
       "\\end{tabular}\n",
       "\\begin{tabular}{lclc}\n",
       "\\textbf{Omnibus:}       & 18.047 & \\textbf{  Durbin-Watson:     } &    2.677  \\\\\n",
       "\\textbf{Prob(Omnibus):} &  0.000 & \\textbf{  Jarque-Bera (JB):  } &   25.582  \\\\\n",
       "\\textbf{Skew:}          & -1.427 & \\textbf{  Prob(JB):          } & 2.79e-06  \\\\\n",
       "\\textbf{Kurtosis:}      &  6.609 & \\textbf{  Cond. No.          } &     446.  \\\\\n",
       "\\bottomrule\n",
       "\\end{tabular}\n",
       "%\\caption{OLS Regression Results}\n",
       "\\end{center}\n",
       "\n",
       "Notes: \\newline\n",
       " [1] Standard Errors assume that the covariance matrix of the errors is correctly specified."
      ],
      "text/plain": [
       "<class 'statsmodels.iolib.summary.Summary'>\n",
       "\"\"\"\n",
       "                            OLS Regression Results                            \n",
       "==============================================================================\n",
       "Dep. Variable:                      y   R-squared:                       0.001\n",
       "Model:                            OLS   Adj. R-squared:                 -0.036\n",
       "Method:                 Least Squares   F-statistic:                   0.02261\n",
       "Date:                Mon, 23 Sep 2024   Prob (F-statistic):              0.882\n",
       "Time:                        21:27:06   Log-Likelihood:                -71.084\n",
       "No. Observations:                  29   AIC:                             146.2\n",
       "Df Residuals:                      27   BIC:                             148.9\n",
       "Df Model:                           1                                         \n",
       "Covariance Type:            nonrobust                                         \n",
       "==============================================================================\n",
       "                 coef    std err          t      P>|t|      [0.025      0.975]\n",
       "------------------------------------------------------------------------------\n",
       "const          0.0451      1.753      0.026      0.980      -3.551       3.641\n",
       "x1           -36.2417    241.014     -0.150      0.882    -530.761     458.278\n",
       "==============================================================================\n",
       "Omnibus:                       18.047   Durbin-Watson:                   2.677\n",
       "Prob(Omnibus):                  0.000   Jarque-Bera (JB):               25.582\n",
       "Skew:                          -1.427   Prob(JB):                     2.79e-06\n",
       "Kurtosis:                       6.609   Cond. No.                         446.\n",
       "==============================================================================\n",
       "\n",
       "Notes:\n",
       "[1] Standard Errors assume that the covariance matrix of the errors is correctly specified.\n",
       "\"\"\""
      ]
     },
     "execution_count": 229,
     "metadata": {},
     "output_type": "execute_result"
    }
   ],
   "source": [
    "# proportional weight being independent variable with an intercept\n",
    "X = sm.add_constant(pro_weight)\n",
    "pro_est = sm.OLS(Y, X)\n",
    "pro_est2 = pro_est.fit()\n",
    "pro_est2.summary()"
   ]
  },
  {
   "cell_type": "code",
   "execution_count": 223,
   "id": "9a0be213-d06a-49ec-a3f9-07858bc48af9",
   "metadata": {},
   "outputs": [
    {
     "data": {
      "text/html": [
       "<table class=\"simpletable\">\n",
       "<caption>OLS Regression Results</caption>\n",
       "<tr>\n",
       "  <th>Dep. Variable:</th>            <td>y</td>        <th>  R-squared (uncentered):</th>      <td>   0.006</td>\n",
       "</tr>\n",
       "<tr>\n",
       "  <th>Model:</th>                   <td>OLS</td>       <th>  Adj. R-squared (uncentered):</th> <td>  -0.029</td>\n",
       "</tr>\n",
       "<tr>\n",
       "  <th>Method:</th>             <td>Least Squares</td>  <th>  F-statistic:       </th>          <td>  0.1730</td>\n",
       "</tr>\n",
       "<tr>\n",
       "  <th>Date:</th>             <td>Mon, 23 Sep 2024</td> <th>  Prob (F-statistic):</th>           <td> 0.681</td> \n",
       "</tr>\n",
       "<tr>\n",
       "  <th>Time:</th>                 <td>21:14:34</td>     <th>  Log-Likelihood:    </th>          <td>  62.465</td>\n",
       "</tr>\n",
       "<tr>\n",
       "  <th>No. Observations:</th>      <td>    29</td>      <th>  AIC:               </th>          <td>  -122.9</td>\n",
       "</tr>\n",
       "<tr>\n",
       "  <th>Df Residuals:</th>          <td>    28</td>      <th>  BIC:               </th>          <td>  -121.6</td>\n",
       "</tr>\n",
       "<tr>\n",
       "  <th>Df Model:</th>              <td>     1</td>      <th>                     </th>              <td> </td>   \n",
       "</tr>\n",
       "<tr>\n",
       "  <th>Covariance Type:</th>      <td>nonrobust</td>    <th>                     </th>              <td> </td>   \n",
       "</tr>\n",
       "</table>\n",
       "<table class=\"simpletable\">\n",
       "<tr>\n",
       "   <td></td>     <th>coef</th>     <th>std err</th>      <th>t</th>      <th>P>|t|</th>  <th>[0.025</th>    <th>0.975]</th>  \n",
       "</tr>\n",
       "<tr>\n",
       "  <th>x1</th> <td>   -0.3035</td> <td>    0.730</td> <td>   -0.416</td> <td> 0.681</td> <td>   -1.798</td> <td>    1.191</td>\n",
       "</tr>\n",
       "</table>\n",
       "<table class=\"simpletable\">\n",
       "<tr>\n",
       "  <th>Omnibus:</th>       <td>18.040</td> <th>  Durbin-Watson:     </th> <td>   2.676</td>\n",
       "</tr>\n",
       "<tr>\n",
       "  <th>Prob(Omnibus):</th> <td> 0.000</td> <th>  Jarque-Bera (JB):  </th> <td>  25.536</td>\n",
       "</tr>\n",
       "<tr>\n",
       "  <th>Skew:</th>          <td>-1.427</td> <th>  Prob(JB):          </th> <td>2.85e-06</td>\n",
       "</tr>\n",
       "<tr>\n",
       "  <th>Kurtosis:</th>      <td> 6.603</td> <th>  Cond. No.          </th> <td>    1.00</td>\n",
       "</tr>\n",
       "</table><br/><br/>Notes:<br/>[1] R² is computed without centering (uncentered) since the model does not contain a constant.<br/>[2] Standard Errors assume that the covariance matrix of the errors is correctly specified."
      ],
      "text/latex": [
       "\\begin{center}\n",
       "\\begin{tabular}{lclc}\n",
       "\\toprule\n",
       "\\textbf{Dep. Variable:}    &        y         & \\textbf{  R-squared (uncentered):}      &     0.006   \\\\\n",
       "\\textbf{Model:}            &       OLS        & \\textbf{  Adj. R-squared (uncentered):} &    -0.029   \\\\\n",
       "\\textbf{Method:}           &  Least Squares   & \\textbf{  F-statistic:       }          &    0.1730   \\\\\n",
       "\\textbf{Date:}             & Mon, 23 Sep 2024 & \\textbf{  Prob (F-statistic):}          &    0.681    \\\\\n",
       "\\textbf{Time:}             &     21:14:34     & \\textbf{  Log-Likelihood:    }          &    62.465   \\\\\n",
       "\\textbf{No. Observations:} &          29      & \\textbf{  AIC:               }          &    -122.9   \\\\\n",
       "\\textbf{Df Residuals:}     &          28      & \\textbf{  BIC:               }          &    -121.6   \\\\\n",
       "\\textbf{Df Model:}         &           1      & \\textbf{                     }          &             \\\\\n",
       "\\textbf{Covariance Type:}  &    nonrobust     & \\textbf{                     }          &             \\\\\n",
       "\\bottomrule\n",
       "\\end{tabular}\n",
       "\\begin{tabular}{lcccccc}\n",
       "            & \\textbf{coef} & \\textbf{std err} & \\textbf{t} & \\textbf{P$> |$t$|$} & \\textbf{[0.025} & \\textbf{0.975]}  \\\\\n",
       "\\midrule\n",
       "\\textbf{x1} &      -0.3035  &        0.730     &    -0.416  &         0.681        &       -1.798    &        1.191     \\\\\n",
       "\\bottomrule\n",
       "\\end{tabular}\n",
       "\\begin{tabular}{lclc}\n",
       "\\textbf{Omnibus:}       & 18.040 & \\textbf{  Durbin-Watson:     } &    2.676  \\\\\n",
       "\\textbf{Prob(Omnibus):} &  0.000 & \\textbf{  Jarque-Bera (JB):  } &   25.536  \\\\\n",
       "\\textbf{Skew:}          & -1.427 & \\textbf{  Prob(JB):          } & 2.85e-06  \\\\\n",
       "\\textbf{Kurtosis:}      &  6.603 & \\textbf{  Cond. No.          } &     1.00  \\\\\n",
       "\\bottomrule\n",
       "\\end{tabular}\n",
       "%\\caption{OLS Regression Results}\n",
       "\\end{center}\n",
       "\n",
       "Notes: \\newline\n",
       " [1] R² is computed without centering (uncentered) since the model does not contain a constant. \\newline\n",
       " [2] Standard Errors assume that the covariance matrix of the errors is correctly specified."
      ],
      "text/plain": [
       "<class 'statsmodels.iolib.summary.Summary'>\n",
       "\"\"\"\n",
       "                                 OLS Regression Results                                \n",
       "=======================================================================================\n",
       "Dep. Variable:                      y   R-squared (uncentered):                   0.006\n",
       "Model:                            OLS   Adj. R-squared (uncentered):             -0.029\n",
       "Method:                 Least Squares   F-statistic:                             0.1730\n",
       "Date:                Mon, 23 Sep 2024   Prob (F-statistic):                       0.681\n",
       "Time:                        21:14:34   Log-Likelihood:                          62.465\n",
       "No. Observations:                  29   AIC:                                     -122.9\n",
       "Df Residuals:                      28   BIC:                                     -121.6\n",
       "Df Model:                           1                                                  \n",
       "Covariance Type:            nonrobust                                                  \n",
       "==============================================================================\n",
       "                 coef    std err          t      P>|t|      [0.025      0.975]\n",
       "------------------------------------------------------------------------------\n",
       "x1            -0.3035      0.730     -0.416      0.681      -1.798       1.191\n",
       "==============================================================================\n",
       "Omnibus:                       18.040   Durbin-Watson:                   2.676\n",
       "Prob(Omnibus):                  0.000   Jarque-Bera (JB):               25.536\n",
       "Skew:                          -1.427   Prob(JB):                     2.85e-06\n",
       "Kurtosis:                       6.603   Cond. No.                         1.00\n",
       "==============================================================================\n",
       "\n",
       "Notes:\n",
       "[1] R² is computed without centering (uncentered) since the model does not contain a constant.\n",
       "[2] Standard Errors assume that the covariance matrix of the errors is correctly specified.\n",
       "\"\"\""
      ]
     },
     "execution_count": 223,
     "metadata": {},
     "output_type": "execute_result"
    }
   ],
   "source": [
    "# proportional weight being independent variable with no intercept\n",
    "X = pro_weight\n",
    "pro_est = sm.OLS(Y, X)\n",
    "pro_est2 = pro_est.fit()\n",
    "pro_est2.summary()"
   ]
  },
  {
   "cell_type": "code",
   "execution_count": null,
   "id": "2ce9c866-41f8-4fb2-a5e2-1b8f335dcbf6",
   "metadata": {},
   "outputs": [],
   "source": []
  },
  {
   "cell_type": "code",
   "execution_count": null,
   "id": "6cad2826-04d7-42e5-89a0-ab1c184f6a43",
   "metadata": {},
   "outputs": [],
   "source": []
  },
  {
   "cell_type": "code",
   "execution_count": null,
   "id": "ae1a4a2c-8063-4f51-9d69-433dc4ce403a",
   "metadata": {},
   "outputs": [],
   "source": []
  },
  {
   "cell_type": "code",
   "execution_count": null,
   "id": "a4c0facd-b65e-493c-b681-af6c9a4edb2d",
   "metadata": {},
   "outputs": [],
   "source": []
  },
  {
   "cell_type": "code",
   "execution_count": null,
   "id": "b408b6ef-3650-4456-b51a-0c5c8716bf48",
   "metadata": {},
   "outputs": [],
   "source": []
  }
 ],
 "metadata": {
  "kernelspec": {
   "display_name": "Python 3 (ipykernel)",
   "language": "python",
   "name": "python3"
  },
  "language_info": {
   "codemirror_mode": {
    "name": "ipython",
    "version": 3
   },
   "file_extension": ".py",
   "mimetype": "text/x-python",
   "name": "python",
   "nbconvert_exporter": "python",
   "pygments_lexer": "ipython3",
   "version": "3.9.19"
  }
 },
 "nbformat": 4,
 "nbformat_minor": 5
}
